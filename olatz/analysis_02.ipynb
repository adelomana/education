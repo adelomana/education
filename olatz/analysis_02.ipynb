{
 "cells": [
  {
   "cell_type": "code",
   "execution_count": 1,
   "id": "153b427f-e835-48ed-9b75-01b71c207eac",
   "metadata": {},
   "outputs": [],
   "source": [
    "# # smooth with intervals\n",
    "# https://james-brennan.github.io/posts/lowess_conf/\n",
    "# https://www.statsmodels.org/dev/examples/notebooks/generated/lowess.html\n",
    "\n",
    "# https://stackoverflow.com/questions/31104565/confidence-interval-for-lowess-in-python\n",
    "\n",
    "# consider loess with bootstrap to get confidence intervals\n",
    "\n",
    "# https://www.kaggle.com/code/eugeniyosetrov/lowess-smoother-algorithm\n",
    "\n",
    "# https://github.com/cerlymarco/tsmoothie/blob/master/README.md\n",
    "\n",
    "# https://www.statsmodels.org/dev/examples/notebooks/generated/lowess.html\n",
    "\n",
    "# possibly the best\n",
    "# https://james-brennan.github.io/posts/lowess_conf/\n",
    "\n"
   ]
  },
  {
   "cell_type": "code",
   "execution_count": 2,
   "id": "13eaf6f0-20ac-4740-bdba-8e1c8bb204c9",
   "metadata": {},
   "outputs": [],
   "source": [
    "# En Limosa limosa y en Ardea cinerea no se ven muchos cambios (destacables) a lo largo del año... \n",
    "# Te mando también otras especies: Apus apus, es el vencejo, especie migratoria que está por aquí solo en verano. \n",
    "# Erithacus rubecula, el petirrojo, especie común a lo largo de todo el año en Euskadi. \n",
    "# Gallinago gallinago, la agachadiza, que es una especie ausente en Euskadi en verano, es sólo invernante en nuestras latitudes.\n"
   ]
  },
  {
   "cell_type": "code",
   "execution_count": 3,
   "id": "6208bfdd-100e-472b-9c84-b5a9b436fd61",
   "metadata": {},
   "outputs": [],
   "source": [
    "import pandas, numpy, seaborn"
   ]
  },
  {
   "cell_type": "code",
   "execution_count": null,
   "id": "9b767fef-91a2-4972-ae9a-8a87565c38de",
   "metadata": {},
   "outputs": [],
   "source": [
    "import tsmoothie, tsmoothie.smoother"
   ]
  },
  {
   "cell_type": "code",
   "execution_count": 4,
   "id": "eee6f5a1-be8b-41f1-bc10-7d6a5197d348",
   "metadata": {},
   "outputs": [],
   "source": [
    "# import warnings\n",
    "# warnings.filterwarnings('ignore')"
   ]
  },
  {
   "cell_type": "code",
   "execution_count": 5,
   "id": "00a065f9-5461-4344-8a06-5a56f0281fd1",
   "metadata": {},
   "outputs": [],
   "source": [
    "import matplotlib, matplotlib.pyplot\n",
    "matplotlib.rcParams.update({'font.size':20, \n",
    "                            'font.family':'sans-serif', \n",
    "                            'xtick.labelsize':16, \n",
    "                            'ytick.labelsize':16, \n",
    "                            'figure.figsize':(16*(2/3), 9*(2/3)), \n",
    "                            'axes.labelsize':20\n",
    "                           })"
   ]
  },
  {
   "cell_type": "markdown",
   "id": "84ab3be1-0e72-42fe-9466-c2cb05445e84",
   "metadata": {},
   "source": [
    "# user-defined variables"
   ]
  },
  {
   "cell_type": "code",
   "execution_count": 6,
   "id": "52a85d89-3052-4cd7-a804-403b341fc34a",
   "metadata": {},
   "outputs": [],
   "source": [
    "input_file = 'Feno_Ornitho_LC_ADRIANO.xlsx'"
   ]
  },
  {
   "cell_type": "markdown",
   "id": "30074729-b7ff-4b29-a4f8-4e39a62b06cc",
   "metadata": {},
   "source": [
    "# read information"
   ]
  },
  {
   "cell_type": "code",
   "execution_count": 7,
   "id": "e990ae66-606a-41e1-9ed1-83e0d8c3acff",
   "metadata": {},
   "outputs": [
    {
     "name": "stdout",
     "output_type": "stream",
     "text": [
      "CPU times: user 1min 30s, sys: 371 ms, total: 1min 31s\n",
      "Wall time: 1min 32s\n"
     ]
    }
   ],
   "source": [
    "%%time\n",
    "df = pandas.read_excel(input_file)"
   ]
  },
  {
   "cell_type": "code",
   "execution_count": 31,
   "id": "45729b48-20eb-4fd1-bd4c-41ad4e440502",
   "metadata": {},
   "outputs": [
    {
     "name": "stdout",
     "output_type": "stream",
     "text": [
      "152 ['Accipiter nisus', 'Acrocephalus arundinaceus', 'Acrocephalus paludicola', 'Acrocephalus schoenobaenus', 'Acrocephalus scirpaceus', 'Alauda arvensis', 'Alca torda', 'Alcedo atthis', 'Anas acuta', 'Anas crecca']\n",
      "CPU times: user 3.94 s, sys: 64.7 ms, total: 4 s\n",
      "Wall time: 4.03 s\n"
     ]
    }
   ],
   "source": [
    "%%time\n",
    "another_tab = pandas.read_excel(input_file, sheet_name='Especies')\n",
    "working_species = list(set(another_tab['Especies']))\n",
    "working_species.sort()\n",
    "print(len(working_species), working_species[:10])"
   ]
  },
  {
   "cell_type": "markdown",
   "id": "902141c6-d8a2-4150-81e8-1902f3aaf71c",
   "metadata": {},
   "source": [
    "# analysis"
   ]
  },
  {
   "cell_type": "code",
   "execution_count": 12,
   "id": "333415b4-eb2f-49b4-aed0-afa05fe0a314",
   "metadata": {},
   "outputs": [],
   "source": [
    "species_specific_df = df[df['Nombre científico'] == 'Accipiter nisus']"
   ]
  },
  {
   "cell_type": "code",
   "execution_count": 18,
   "id": "924abde5-7f7b-471f-8a66-b16dac19f720",
   "metadata": {},
   "outputs": [],
   "source": [
    "slicing_rules = (species_specific_df['Quincena'] == 1) & (species_specific_df['Año'] == 2016)\n",
    "ws = species_specific_df[slicing_rules]"
   ]
  },
  {
   "cell_type": "code",
   "execution_count": 25,
   "id": "3b014292-91dd-4d5f-ae48-bfdc8734f430",
   "metadata": {},
   "outputs": [
    {
     "data": {
      "text/plain": [
       "2"
      ]
     },
     "execution_count": 25,
     "metadata": {},
     "output_type": "execute_result"
    }
   ],
   "source": [
    "listas_completas_IDs = ws['Lista ID'].values\n",
    "listas_completas_count = len(list(set(listas_completas_IDs)))\n",
    "listas_completas_count"
   ]
  },
  {
   "cell_type": "code",
   "execution_count": 29,
   "id": "99006915-81ae-4529-806d-bc939aa4dec0",
   "metadata": {},
   "outputs": [
    {
     "name": "stdout",
     "output_type": "stream",
     "text": [
      "54\n"
     ]
    }
   ],
   "source": [
    "slicing_rules = (df['Quincena'] == 1) & (df['Año'] == 2016)\n",
    "across_species_df = df[slicing_rules]\n",
    "across_species_listas_completas = across_species_df['Lista ID'].values\n",
    "across_species_listas_completas_count = len(list(set(across_species_listas_completas)))\n",
    "print(across_species_listas_completas_count)"
   ]
  },
  {
   "cell_type": "code",
   "execution_count": null,
   "id": "c2aa5b0c-8c5f-478b-9539-983dbb037383",
   "metadata": {},
   "outputs": [],
   "source": []
  },
  {
   "cell_type": "code",
   "execution_count": null,
   "id": "7e7467e8-bc5e-44e5-bb43-85542967ca09",
   "metadata": {},
   "outputs": [],
   "source": []
  },
  {
   "cell_type": "code",
   "execution_count": 45,
   "id": "67943651-a9f4-491f-a1bd-e1a1f05ffad7",
   "metadata": {},
   "outputs": [
    {
     "data": {
      "text/plain": [
       "array([0.07292972, 0.06660093, 0.06210247, 0.06550161, 0.06930138,\n",
       "       0.06960817, 0.05899732, 0.04316223, 0.02905163, 0.02091801,\n",
       "       0.02082356, 0.02826647, 0.03977305, 0.05113877, 0.05944181,\n",
       "       0.06511529, 0.06843849, 0.0719747 , 0.07451847, 0.07775817,\n",
       "       0.07813314, 0.07583233, 0.07079216, 0.06470969])"
      ]
     },
     "execution_count": 45,
     "metadata": {},
     "output_type": "execute_result"
    }
   ],
   "source": [
    "inference"
   ]
  },
  {
   "cell_type": "code",
   "execution_count": 98,
   "id": "b72dde50-e532-4f05-850a-9bf356f5e7c3",
   "metadata": {},
   "outputs": [
    {
     "name": "stdout",
     "output_type": "stream",
     "text": [
      "Accipiter nisus\n",
      "[2016, 2017, 2018, 2019, 2020, 2021, 2022, 2023]\n",
      "\t Q 1\n",
      "\t\t 2 54 0.037037037037037035\n",
      "\t\t 12 138 0.08695652173913043\n",
      "\t\t 11 150 0.07333333333333333\n",
      "\t\t 9 118 0.07627118644067797\n",
      "\t\t 12 150 0.08\n",
      "\t\t 8 128 0.0625\n",
      "\t\t 12 99 0.12121212121212122\n",
      "\t\t 14 90 0.15555555555555556\n",
      "\t Q 2\n",
      "\t\t 2 97 0.020618556701030927\n",
      "\t\t 12 120 0.1\n",
      "\t\t 9 167 0.05389221556886228\n",
      "\t\t 12 148 0.08108108108108109\n",
      "\t\t 13 171 0.07602339181286549\n",
      "\t\t 7 148 0.0472972972972973\n",
      "\t\t 2 134 0.014925373134328358\n",
      "\t\t 9 76 0.11842105263157894\n",
      "\t Q 3\n",
      "\t\t 1 103 0.009708737864077669\n",
      "\t\t 9 101 0.0891089108910891\n",
      "\t\t 16 110 0.14545454545454545\n",
      "\t\t 12 225 0.05333333333333334\n",
      "\t\t 8 153 0.05228758169934641\n",
      "\t\t 5 142 0.035211267605633804\n",
      "\t\t 2 85 0.023529411764705882\n",
      "\t\t 14 92 0.15217391304347827\n",
      "\t Q 4\n",
      "\t\t 3 84 0.03571428571428571\n",
      "\t\t 7 88 0.07954545454545454\n",
      "\t\t 5 127 0.03937007874015748\n",
      "\t\t 15 236 0.0635593220338983\n",
      "\t\t 15 151 0.09933774834437085\n",
      "\t\t 4 150 0.02666666666666667\n",
      "\t\t 2 105 0.01904761904761905\n",
      "\t\t 8 61 0.13114754098360656\n",
      "\t Q 5\n",
      "\t\t 4 101 0.039603960396039604\n",
      "\t\t 12 131 0.0916030534351145\n",
      "\t\t 20 175 0.11428571428571428\n",
      "\t\t 16 264 0.06060606060606061\n",
      "\t\t 17 176 0.09659090909090909\n",
      "\t\t 13 249 0.05220883534136546\n",
      "\t\t 9 96 0.09375\n",
      "\t\t 12 115 0.10434782608695652\n",
      "\t Q 6\n",
      "\t\t 9 113 0.07964601769911504\n",
      "\t\t 15 125 0.12\n",
      "\t\t 12 171 0.07017543859649122\n",
      "\t\t 23 337 0.06824925816023739\n",
      "\t\t 31 163 0.1901840490797546\n",
      "\t\t 12 239 0.0502092050209205\n",
      "\t\t 12 186 0.06451612903225806\n",
      "\t\t 7 126 0.05555555555555555\n",
      "\t Q 7\n",
      "\t\t 3 92 0.03260869565217391\n",
      "\t\t 13 144 0.09027777777777778\n",
      "\t\t 11 164 0.06707317073170732\n",
      "\t\t 20 296 0.06756756756756757\n",
      "\t\t 54 214 0.2523364485981308\n",
      "\t\t 14 225 0.06222222222222222\n",
      "\t\t 10 184 0.05434782608695652\n",
      "\t\t 8 150 0.05333333333333334\n",
      "\t Q 8\n",
      "\t\t 4 104 0.038461538461538464\n",
      "\t\t 15 160 0.09375\n",
      "\t\t 10 174 0.05747126436781609\n",
      "\t\t 8 209 0.03827751196172249\n",
      "\t\t 42 190 0.22105263157894736\n",
      "\t\t 4 242 0.01652892561983471\n",
      "\t\t 4 159 0.025157232704402517\n",
      "\t\t 8 172 0.046511627906976744\n",
      "\t Q 9\n",
      "\t\t 4 101 0.039603960396039604\n",
      "\t\t 2 141 0.014184397163120567\n",
      "\t\t 1 150 0.006666666666666667\n",
      "\t\t 5 272 0.01838235294117647\n",
      "\t\t 8 135 0.05925925925925926\n",
      "\t\t 6 226 0.02654867256637168\n",
      "\t\t 5 177 0.02824858757062147\n",
      "\t\t 5 209 0.023923444976076555\n",
      "\t Q 10\n",
      "\t\t 1 83 0.012048192771084338\n",
      "\t\t 1 128 0.0078125\n",
      "\t\t 8 153 0.05228758169934641\n",
      "\t\t 0 191 0.0\n",
      "\t\t 1 159 0.006289308176100629\n",
      "\t\t 4 216 0.018518518518518517\n",
      "\t\t 8 195 0.041025641025641026\n",
      "\t\t 1 188 0.005319148936170213\n",
      "\t Q 11\n",
      "\t\t 5 101 0.04950495049504951\n",
      "\t\t 3 105 0.02857142857142857\n",
      "\t\t 1 158 0.006329113924050633\n",
      "\t\t 4 228 0.017543859649122806\n",
      "\t\t 3 147 0.02040816326530612\n",
      "\t\t 2 161 0.012422360248447204\n",
      "\t\t 4 184 0.021739130434782608\n",
      "\t\t 2 193 0.010362694300518135\n",
      "\t Q 12\n",
      "\t\t 3 133 0.022556390977443608\n",
      "\t\t 6 96 0.0625\n",
      "\t\t 2 145 0.013793103448275862\n",
      "\t\t 6 156 0.038461538461538464\n",
      "\t\t 3 146 0.02054794520547945\n",
      "\t\t 1 136 0.007352941176470588\n",
      "\t\t 3 111 0.02702702702702703\n",
      "\t\t 4 132 0.030303030303030304\n",
      "\t Q 13\n",
      "\t\t 7 110 0.06363636363636363\n",
      "\t\t 4 141 0.028368794326241134\n",
      "\t\t 4 114 0.03508771929824561\n",
      "\t\t 5 133 0.03759398496240601\n",
      "\t\t 5 103 0.04854368932038835\n",
      "\t\t 9 109 0.08256880733944955\n",
      "\t\t 5 121 0.04132231404958678\n",
      "\t\t 1 117 0.008547008547008548\n",
      "\t Q 14\n",
      "\t\t 4 132 0.030303030303030304\n",
      "\t\t 5 124 0.04032258064516129\n",
      "\t\t 7 111 0.06306306306306306\n",
      "\t\t 7 150 0.04666666666666667\n",
      "\t\t 12 110 0.10909090909090909\n",
      "\t\t 8 123 0.06504065040650407\n",
      "\t\t 5 123 0.04065040650406504\n",
      "\t\t 8 141 0.05673758865248227\n",
      "\t Q 15\n",
      "\t\t 5 101 0.04950495049504951\n",
      "\t\t 7 129 0.05426356589147287\n",
      "\t\t 5 179 0.027932960893854747\n",
      "\t\t 12 147 0.08163265306122448\n",
      "\t\t 13 98 0.1326530612244898\n",
      "\t\t 8 108 0.07407407407407407\n",
      "\t\t 6 93 0.06451612903225806\n",
      "\t\t 11 79 0.13924050632911392\n",
      "\t Q 16\n",
      "\t\t 2 87 0.022988505747126436\n",
      "\t\t 9 112 0.08035714285714286\n",
      "\t\t 8 155 0.05161290322580645\n",
      "\t\t 7 113 0.061946902654867256\n",
      "\t\t 18 115 0.1565217391304348\n",
      "\t\t 4 72 0.05555555555555555\n",
      "\t\t 10 85 0.11764705882352941\n",
      "\t\t 6 106 0.05660377358490566\n",
      "\t Q 17\n",
      "\t\t 3 84 0.03571428571428571\n",
      "\t\t 12 133 0.09022556390977443\n",
      "\t\t 7 173 0.04046242774566474\n",
      "\t\t 8 123 0.06504065040650407\n",
      "\t\t 16 114 0.14035087719298245\n",
      "\t\t 4 68 0.058823529411764705\n",
      "\t\t 7 90 0.07777777777777778\n",
      "\t\t 10 108 0.09259259259259259\n",
      "\t Q 18\n",
      "\t\t 4 91 0.04395604395604396\n",
      "\t\t 8 123 0.06504065040650407\n",
      "\t\t 12 167 0.0718562874251497\n",
      "\t\t 12 121 0.09917355371900827\n",
      "\t\t 13 100 0.13\n",
      "\t\t 4 96 0.041666666666666664\n",
      "\t\t 9 96 0.09375\n",
      "\t\t 4 74 0.05405405405405406\n",
      "\t Q 19\n",
      "\t\t 10 101 0.09900990099009901\n",
      "\t\t 8 165 0.048484848484848485\n",
      "\t\t 9 125 0.072\n",
      "\t\t 8 166 0.04819277108433735\n",
      "\t\t 12 101 0.1188118811881188\n",
      "\t\t 9 83 0.10843373493975904\n",
      "\t\t 4 94 0.0425531914893617\n",
      "\t\t 8 86 0.09302325581395349\n",
      "\t Q 20\n",
      "\t\t 8 109 0.07339449541284404\n",
      "\t\t 11 169 0.0650887573964497\n",
      "\t\t 8 147 0.05442176870748299\n",
      "\t\t 4 205 0.01951219512195122\n",
      "\t\t 22 139 0.15827338129496402\n",
      "\t\t 15 126 0.11904761904761904\n",
      "\t\t 16 110 0.14545454545454545\n",
      "\t\t 4 85 0.047058823529411764\n",
      "\t Q 21\n",
      "\t\t 8 109 0.07339449541284404\n",
      "\t\t 12 162 0.07407407407407407\n",
      "\t\t 21 157 0.1337579617834395\n",
      "\t\t 8 151 0.052980132450331126\n",
      "\t\t 18 141 0.1276595744680851\n",
      "\t\t 14 81 0.1728395061728395\n",
      "\t\t 10 107 0.09345794392523364\n",
      "\t\t 8 108 0.07407407407407407\n",
      "\t Q 22\n",
      "\t\t 6 106 0.05660377358490566\n",
      "\t\t 7 147 0.047619047619047616\n",
      "\t\t 16 168 0.09523809523809523\n",
      "\t\t 15 151 0.09933774834437085\n",
      "\t\t 13 179 0.07262569832402235\n",
      "\t\t 14 95 0.14736842105263157\n",
      "\t\t 10 104 0.09615384615384616\n",
      "\t\t 4 112 0.03571428571428571\n",
      "\t Q 23\n",
      "\t\t 6 76 0.07894736842105263\n",
      "\t\t 6 139 0.04316546762589928\n",
      "\t\t 10 120 0.08333333333333333\n",
      "\t\t 14 171 0.08187134502923976\n",
      "\t\t 6 139 0.04316546762589928\n",
      "\t\t 9 91 0.0989010989010989\n",
      "\t\t 4 97 0.041237113402061855\n",
      "\t\t 5 96 0.052083333333333336\n",
      "\t Q 24\n",
      "\t\t 7 113 0.061946902654867256\n",
      "\t\t 6 145 0.041379310344827586\n",
      "\t\t 14 123 0.11382113821138211\n",
      "\t\t 13 159 0.08176100628930817\n",
      "\t\t 9 193 0.046632124352331605\n",
      "\t\t 7 102 0.06862745098039216\n",
      "\t\t 10 100 0.1\n",
      "\t\t 6 103 0.05825242718446602\n",
      "[1, 2, 3, 4, 5, 6, 7, 8, 9, 10, 11, 12, 13, 14, 15, 16, 17, 18, 19, 20, 21, 22, 23, 24]\n",
      "[0.07813559322033899, 0.06495780369086389, 0.05281045751633987, 0.05146470038702789, 0.09267652671755724, 0.0692123483783643, 0.06464769647696478, 0.042486583184257604, 0.025236058771224118, 0.009930346385542169, 0.01897601145721446, 0.024791709002235318, 0.039458149505996395, 0.051702127659574465, 0.06929510155316607, 0.05927533811988646, 0.07140921409214093, 0.06844846891582688, 0.08251162790697675, 0.06924162640464687, 0.08376600899965386, 0.08393189678105879, 0.06551535087719298, 0.06528717681762972]\n"
     ]
    },
    {
     "data": {
      "image/png": "[encoded data removed]",
      "text/plain": [
       "<Figure size 1066.67x600 with 1 Axes>"
      ]
     },
     "metadata": {},
     "output_type": "display_data"
    },
    {
     "name": "stdout",
     "output_type": "stream",
     "text": [
      "\n"
     ]
    }
   ],
   "source": [
    "for species in working_species[:1]:\n",
    "    \n",
    "    print(species)\n",
    "    species_specific_df = df[df['Nombre científico'] == species]\n",
    "\n",
    "    years_measured = list(set(species_specific_df['Año']))\n",
    "    years_measured.sort()\n",
    "    print(years_measured)\n",
    "\n",
    "    # making analysis and figure\n",
    "    x=[]; y=[]; z=[]\n",
    "    for fortnight in range(1, 24+1):\n",
    "        print('\\t', 'Q', fortnight)\n",
    "        \n",
    "        values_across_years = []\n",
    "        for year_measured in years_measured:\n",
    "            \n",
    "            slicing_rules = (species_specific_df['Quincena'] == fortnight) & (species_specific_df['Año'] == year_measured)\n",
    "            ws = species_specific_df[slicing_rules]\n",
    "            listas_completas_IDs = ws['Lista ID'].values\n",
    "            listas_completas_count = len(list(set(listas_completas_IDs)))\n",
    "\n",
    "            slicing_rules = (df['Quincena'] == fortnight) & (df['Año'] == year_measured)\n",
    "            across_species_df = df[slicing_rules]\n",
    "            across_species_listas_completas = across_species_df['Lista ID'].values\n",
    "            across_species_listas_completas_count = len(list(set(across_species_listas_completas)))\n",
    "\n",
    "            # percentage\n",
    "            percentage = listas_completas_count/across_species_listas_completas_count\n",
    "            print('\\t\\t', listas_completas_count, across_species_listas_completas_count, percentage)\n",
    "            values_across_years.append(percentage)\n",
    "\n",
    "        # average over years\n",
    "        average_over_years = numpy.median(values_across_years)\n",
    "        sd = numpy.std(values_across_years)\n",
    "\n",
    "        # add trajectory\n",
    "        x.append(fortnight)\n",
    "        y.append(average_over_years)\n",
    "        z.append(sd)\n",
    "\n",
    "    # smooth and plot\n",
    "    print(x)\n",
    "    print(y)\n",
    "    #matplotlib.pyplot.plot(x, y, 'o', color='tab:red', zorder=9999)\n",
    "    matplotlib.pyplot.errorbar(x, y, z, fmt='o', color='black', zorder=0, alpha=1/3, markeredgecolor='none', markersize=10)\n",
    "\n",
    "    smoother = tsmoothie.smoother.LowessSmoother(smooth_fraction=0.5, iterations=6)\n",
    "    #smoother = tsmoothie.smoother.GaussianSmoother(n_knots=6, sigma=0.1)\n",
    "    # https://github.com/cerlymarco/tsmoothie/blob/master/notebooks/Basic%20Smoothing.ipynb\n",
    "    \n",
    "    smoother.smooth(y)\n",
    "    low, up = smoother.get_intervals('confidence_interval')\n",
    "    inference = smoother.smooth_data[0]\n",
    "\n",
    "    matplotlib.pyplot.plot(x, inference, linewidth=4, color='gold')\n",
    "    matplotlib.pyplot.fill_between(x, low[0], up[0], alpha=1/5, color='skyblue', edgecolors=None)\n",
    "\n",
    "    matplotlib.pyplot.grid(ls=':')\n",
    "    matplotlib.pyplot.title(species)\n",
    "    matplotlib.pyplot.tight_layout()\n",
    "    matplotlib.pyplot.show()\n",
    "            \n",
    "            \n",
    "\n",
    "            \n",
    "            \n",
    "           \n",
    "        \n",
    "   \n",
    "    \n",
    "\n",
    "    print()"
   ]
  },
  {
   "cell_type": "code",
   "execution_count": 40,
   "id": "c164ade3-d7d9-4b45-b43e-d4274f952bb0",
   "metadata": {},
   "outputs": [],
   "source": [
    "import tsmoothie, tsmoothie.smoother"
   ]
  },
  {
   "cell_type": "code",
   "execution_count": null,
   "id": "fc80fbb7-7766-4fc1-87a1-e4e96b72c19b",
   "metadata": {},
   "outputs": [],
   "source": []
  },
  {
   "cell_type": "code",
   "execution_count": null,
   "id": "e400efa8-3cd6-4ef2-afb5-94643ea397d7",
   "metadata": {},
   "outputs": [],
   "source": []
  },
  {
   "cell_type": "code",
   "execution_count": null,
   "id": "9b561a24-a27b-4e37-9abb-acd98124bc7a",
   "metadata": {},
   "outputs": [],
   "source": []
  },
  {
   "cell_type": "code",
   "execution_count": null,
   "id": "fb20b1eb-fffa-4663-8f53-07b3e6dc92e9",
   "metadata": {},
   "outputs": [],
   "source": []
  },
  {
   "cell_type": "code",
   "execution_count": null,
   "id": "aee208bc-809a-465e-a24b-3ced2b65ae1d",
   "metadata": {},
   "outputs": [],
   "source": []
  },
  {
   "cell_type": "code",
   "execution_count": null,
   "id": "5a1625b5-bf7b-45ef-b9f7-10a18148697b",
   "metadata": {},
   "outputs": [],
   "source": []
  },
  {
   "cell_type": "code",
   "execution_count": null,
   "id": "d9e77d70-f762-43cc-91ac-6d528f112a17",
   "metadata": {},
   "outputs": [],
   "source": [
    "asdfas"
   ]
  },
  {
   "cell_type": "code",
   "execution_count": null,
   "id": "1eb9324e-e091-45fc-8603-1ea50a70a5d9",
   "metadata": {},
   "outputs": [],
   "source": []
  },
  {
   "cell_type": "code",
   "execution_count": null,
   "id": "4af92afe-2bc3-44a1-b0f3-c948de0f3309",
   "metadata": {},
   "outputs": [],
   "source": []
  },
  {
   "cell_type": "code",
   "execution_count": null,
   "id": "14bbee2d-6afe-4361-b85a-46eb64ded69b",
   "metadata": {},
   "outputs": [],
   "source": [
    "year_vector = []\n",
    "for month_measured in range(1, 12+1):\n",
    "    print('month', month_measured)\n",
    "    medians_across_years = []\n",
    "    for year_measured in years_measured:\n",
    "        final_slice = species_specific_df[(species_specific_df['Año'] == year_measured) & (species_specific_df['Mes'] == month_measured)]\n",
    "        values = final_slice['Número'].values\n",
    "        observed_median = numpy.median(values)\n",
    "        print('\\t', 'year', year_measured, '#', len(values), values[:10], observed_median) \n",
    "        medians_across_years.append(observed_median)\n",
    "\n",
    "    # average over years\n",
    "    matplotlib.pyplot.scatter(numpy.repeat(month_measured, len(medians_across_years)), medians_across_years, s=100, c='black', alpha=1/3, edgecolors='none')\n",
    "\n",
    "# close figure\n",
    "matplotlib.pyplot.xlim([0.75, 12.25])\n",
    "matplotlib.pyplot.xticks([1, 2, 3, 4, 5, 6, 7, 8, 9, 10, 11, 12], ['Jan', 'Feb', 'Mar', 'Apr', 'May', 'Jun', 'Jul', 'Aug', 'Sep', 'Oct', 'Nov', 'Dec'])\n",
    "matplotlib.pyplot.xlabel('Month')\n",
    "matplotlib.pyplot.ylabel('Observed')\n",
    "matplotlib.pyplot.grid(ls=':')\n",
    "matplotlib.pyplot.tight_layout()\n",
    "matplotlib.pyplot.show()"
   ]
  },
  {
   "cell_type": "code",
   "execution_count": null,
   "id": "5e746bc8-bf8a-4a02-b7fb-f816a01c225a",
   "metadata": {},
   "outputs": [],
   "source": [
    "x=[]; y=[]\n",
    "for month_measured in range(1, 12+1):\n",
    "    print('month', month_measured)\n",
    "    medians_across_years = []\n",
    "    for year_measured in years_measured:\n",
    "        final_slice = species_specific_df[(species_specific_df['Año'] == year_measured) & (species_specific_df['Mes'] == month_measured)]\n",
    "        values = final_slice['Número'].values\n",
    "        observed_median = numpy.median(values)\n",
    "        print('\\t', 'year', year_measured, '#', len(values), values[:10], observed_median) \n",
    "        medians_across_years.append(observed_median)\n",
    "\n",
    "    # average over years\n",
    "    seaborn.stripplot(x=numpy.repeat(month_measured, len(medians_across_years)), y=medians_across_years, color='black', size=7.5, alpha=1/3)\n",
    "\n",
    "# close figure\n",
    "matplotlib.pyplot.xlim([0.75, 12.25])\n",
    "matplotlib.pyplot.xticks([1, 2, 3, 4, 5, 6, 7, 8, 9, 10, 11, 12], ['Jan', 'Feb', 'Mar', 'Apr', 'May', 'Jun', 'Jul', 'Aug', 'Sep', 'Oct', 'Nov', 'Dec'])\n",
    "matplotlib.pyplot.xlabel('Month')\n",
    "matplotlib.pyplot.ylabel('Observed')\n",
    "matplotlib.pyplot.grid(ls=':')\n",
    "matplotlib.pyplot.tight_layout()\n",
    "matplotlib.pyplot.show()"
   ]
  },
  {
   "cell_type": "code",
   "execution_count": null,
   "id": "b309d291-0031-4954-89bb-a5c119c6d1b7",
   "metadata": {},
   "outputs": [],
   "source": [
    "# confidence interval, https://www.geeksforgeeks.org/how-to-calculate-confidence-intervals-in-python/"
   ]
  },
  {
   "cell_type": "code",
   "execution_count": null,
   "id": "3650deb2-9d9d-49f7-9a36-25aacd7799bb",
   "metadata": {},
   "outputs": [],
   "source": [
    "species_specific_df"
   ]
  },
  {
   "cell_type": "code",
   "execution_count": null,
   "id": "d73dec12-96f7-4756-b651-bc6520f5cfda",
   "metadata": {},
   "outputs": [],
   "source": [
    "month_specific = mini[mini['Mes'] == 2]"
   ]
  },
  {
   "cell_type": "code",
   "execution_count": null,
   "id": "fd037790-d9ff-4b8e-bc3b-ad886c9f11c0",
   "metadata": {},
   "outputs": [],
   "source": [
    "# get the median per month across years\n",
    "years_measured = list(set(species_specific_df['Año']))\n",
    "years_measured.sort()\n",
    "\n",
    "years_measured"
   ]
  },
  {
   "cell_type": "code",
   "execution_count": null,
   "id": "0b49120c-3fdd-4c50-9eb5-80c2d0efb7c6",
   "metadata": {},
   "outputs": [],
   "source": [
    "for month_measured in range(1, 12+1):\n",
    "    print(month_measured)"
   ]
  }
 ],
 "metadata": {
  "kernelspec": {
   "display_name": "Python 3 (ipykernel)",
   "language": "python",
   "name": "python3"
  },
  "language_info": {
   "codemirror_mode": {
    "name": "ipython",
    "version": 3
   },
   "file_extension": ".py",
   "mimetype": "text/x-python",
   "name": "python",
   "nbconvert_exporter": "python",
   "pygments_lexer": "ipython3",
   "version": "3.11.9"
  }
 },
 "nbformat": 4,
 "nbformat_minor": 5
}
