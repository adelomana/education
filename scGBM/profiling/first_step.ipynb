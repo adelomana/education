{
 "cells": [
  {
   "cell_type": "code",
   "execution_count": 1,
   "id": "a8ab46ed-892b-4ccd-b5b9-15ae70f10af2",
   "metadata": {},
   "outputs": [],
   "source": [
    "import os"
   ]
  },
  {
   "cell_type": "markdown",
   "id": "48772afb-67ce-4f02-b372-6ee450906efc",
   "metadata": {},
   "source": [
    "### user-defined variables"
   ]
  },
  {
   "cell_type": "code",
   "execution_count": 2,
   "id": "a1519183-54b6-48d9-a8a9-c13a4201b436",
   "metadata": {},
   "outputs": [],
   "source": [
    "sample = 'SF11082'\n",
    "threads = 8\n",
    "\n",
    "loom_path = '/home/jing/projects/samples/{}/{}singlesample.loom'.format(sample, sample)\n",
    "tfdb = '/home/jing/scratch/resource/allTFs_hg38.txt'"
   ]
  },
  {
   "cell_type": "markdown",
   "id": "4e42c75e-a45c-41ef-9484-2362e4fb5d72",
   "metadata": {},
   "source": [
    "### build command"
   ]
  },
  {
   "cell_type": "code",
   "execution_count": 3,
   "id": "34781880-db50-4f74-a833-f9aa51bc284f",
   "metadata": {},
   "outputs": [],
   "source": [
    "pyscenic_command = 'pyscenic grn {} {} -o adj.csv --num_workers {}'.format(loom_path, tfdb, threads)"
   ]
  },
  {
   "cell_type": "code",
   "execution_count": 4,
   "id": "bbfd7979-e27f-4cc7-8bc1-d6120ec2d5fb",
   "metadata": {},
   "outputs": [],
   "source": [
    "command = 'nohup /usr/bin/time -v {} > info.txt 2>&1 &'.format(pyscenic_command)"
   ]
  },
  {
   "cell_type": "code",
   "execution_count": 5,
   "id": "099d41f7-4268-4aee-8190-7fbefd14f821",
   "metadata": {},
   "outputs": [
    {
     "name": "stdout",
     "output_type": "stream",
     "text": [
      "nohup /usr/bin/time -v pyscenic grn /home/jing/projects/samples/SF11082/SF11082singlesample.loom /home/jing/scratch/resource/allTFs_hg38.txt -o adj.csv --num_workers 8 > info.txt 2>&1 &\n"
     ]
    }
   ],
   "source": [
    "print(command)"
   ]
  },
  {
   "cell_type": "markdown",
   "id": "41dfc5b1",
   "metadata": {},
   "source": [
    "### make a check on size"
   ]
  },
  {
   "cell_type": "code",
   "execution_count": null,
   "id": "2944bff8-32e6-4b99-8950-eae09b97b1cd",
   "metadata": {},
   "outputs": [],
   "source": [
    "#import scanpy; adata = scanpy.read_loom(loom_path); print(adata)"
   ]
  },
  {
   "cell_type": "markdown",
   "id": "de2e25b0-5132-4529-9dcf-e39fb958dcc5",
   "metadata": {},
   "source": [
    "### execute"
   ]
  },
  {
   "cell_type": "code",
   "execution_count": 6,
   "id": "28ca356d-e029-465a-8008-b6b65f9201c8",
   "metadata": {
    "tags": []
   },
   "outputs": [],
   "source": [
    "# os.system(command)"
   ]
  }
 ],
 "metadata": {
  "kernelspec": {
   "display_name": "Python 3 (ipykernel)",
   "language": "python",
   "name": "python3"
  },
  "language_info": {
   "codemirror_mode": {
    "name": "ipython",
    "version": 3
   },
   "file_extension": ".py",
   "mimetype": "text/x-python",
   "name": "python",
   "nbconvert_exporter": "python",
   "pygments_lexer": "ipython3",
   "version": "3.11.0"
  }
 },
 "nbformat": 4,
 "nbformat_minor": 5
}
