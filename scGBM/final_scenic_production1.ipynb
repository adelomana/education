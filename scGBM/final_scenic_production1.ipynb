{
 "cells": [
  {
   "cell_type": "markdown",
   "id": "f72f3ef5",
   "metadata": {},
   "source": [
    "# SCENIC\n",
    "This script runs SCENIC locally"
   ]
  },
  {
   "cell_type": "code",
   "execution_count": 1,
   "id": "f2117f88",
   "metadata": {},
   "outputs": [],
   "source": [
    "import os, pandas, glob"
   ]
  },
  {
   "cell_type": "markdown",
   "id": "14f3d76c",
   "metadata": {},
   "source": [
    "# 0. user-defined variables"
   ]
  },
  {
   "cell_type": "code",
   "execution_count": 2,
   "id": "32ff4f3d",
   "metadata": {},
   "outputs": [],
   "source": [
    "# input file\n",
    "f_loom_path_scenic = \"/home/adrian/projects/scGBM/results/pbmc10k_filtered_scenic.loom\""
   ]
  },
  {
   "cell_type": "code",
   "execution_count": 3,
   "id": "c3ab9c5b",
   "metadata": {},
   "outputs": [],
   "source": [
    "# resources\n",
    "f_tfs = '/home/adrian/databases/cistarget/allTFs_hg38.txt'\n",
    "database_folder = '/home/adrian/databases/cistarget/'"
   ]
  },
  {
   "cell_type": "code",
   "execution_count": 4,
   "id": "ecebcf99",
   "metadata": {},
   "outputs": [],
   "source": [
    "# results\n",
    "results_folder = '/home/adrian/projects/scGBM/production1/'\n",
    "os.chdir(results_folder)\n",
    "f_pyscenic_output = \"pyscenic_output.loom\""
   ]
  },
  {
   "cell_type": "code",
   "execution_count": 5,
   "id": "ccf02836",
   "metadata": {},
   "outputs": [],
   "source": [
    "# scenic parallelisation level. In a 20 cores machine, it failed requesting >= 12.\n",
    "scenic_threads = 10"
   ]
  },
  {
   "cell_type": "markdown",
   "id": "07030509",
   "metadata": {},
   "source": [
    "# Co-expression modules inference"
   ]
  },
  {
   "cell_type": "markdown",
   "id": "d9723d98",
   "metadata": {},
   "source": [
    "This step requires to know which genes are TFs. That information was retrieved using:\n",
    "\n",
    "`wget https://raw.githubusercontent.com/aertslab/SCENICprotocol/master/example/allTFs_hg38.txt`"
   ]
  },
  {
   "cell_type": "markdown",
   "id": "e797da86",
   "metadata": {},
   "source": [
    "This step takes around 21 CPU hours.\n",
    "\n",
    "It is crucial to monitor for any error message in the messages file, otherwise the calculation might have failed and but still running without end."
   ]
  },
  {
   "cell_type": "code",
   "execution_count": 6,
   "id": "95b33e14",
   "metadata": {},
   "outputs": [
    {
     "name": "stdout",
     "output_type": "stream",
     "text": [
      "time pyscenic grn /home/adrian/projects/scGBM/results/pbmc10k_filtered_scenic.loom /home/adrian/databases/cistarget/allTFs_hg38.txt -o adj.csv --num_workers 10 > messages.from_coexpression_inference.txt 2>&1\n"
     ]
    }
   ],
   "source": [
    "cmd = 'time pyscenic grn {} {} -o adj.csv --num_workers {} > messages.from_coexpression_inference.txt 2>&1'.format(f_loom_path_scenic, f_tfs, scenic_threads)\n",
    "print(cmd)"
   ]
  },
  {
   "cell_type": "code",
   "execution_count": 7,
   "id": "cce7449c",
   "metadata": {},
   "outputs": [
    {
     "name": "stdout",
     "output_type": "stream",
     "text": [
      "CPU times: user 208 ms, sys: 63.1 ms, total: 271 ms\n",
      "Wall time: 3h 34min 10s\n"
     ]
    },
    {
     "data": {
      "text/plain": [
       "0"
      ]
     },
     "execution_count": 7,
     "metadata": {},
     "output_type": "execute_result"
    }
   ],
   "source": [
    "%%time\n",
    "os.system(cmd)"
   ]
  },
  {
   "cell_type": "code",
   "execution_count": 8,
   "id": "24bd6eba",
   "metadata": {},
   "outputs": [
    {
     "data": {
      "text/html": [
       "<div>\n",
       "<style scoped>\n",
       "    .dataframe tbody tr th:only-of-type {\n",
       "        vertical-align: middle;\n",
       "    }\n",
       "\n",
       "    .dataframe tbody tr th {\n",
       "        vertical-align: top;\n",
       "    }\n",
       "\n",
       "    .dataframe thead th {\n",
       "        text-align: right;\n",
       "    }\n",
       "</style>\n",
       "<table border=\"1\" class=\"dataframe\">\n",
       "  <thead>\n",
       "    <tr style=\"text-align: right;\">\n",
       "      <th></th>\n",
       "      <th>TF</th>\n",
       "      <th>target</th>\n",
       "      <th>importance</th>\n",
       "    </tr>\n",
       "  </thead>\n",
       "  <tbody>\n",
       "    <tr>\n",
       "      <th>0</th>\n",
       "      <td>RPS4X</td>\n",
       "      <td>RPS12</td>\n",
       "      <td>255.363938</td>\n",
       "    </tr>\n",
       "    <tr>\n",
       "      <th>1</th>\n",
       "      <td>RPS4X</td>\n",
       "      <td>RPL34</td>\n",
       "      <td>224.852101</td>\n",
       "    </tr>\n",
       "    <tr>\n",
       "      <th>2</th>\n",
       "      <td>RPS4X</td>\n",
       "      <td>RPL32</td>\n",
       "      <td>222.667963</td>\n",
       "    </tr>\n",
       "    <tr>\n",
       "      <th>3</th>\n",
       "      <td>RPS4X</td>\n",
       "      <td>RPS14</td>\n",
       "      <td>206.698889</td>\n",
       "    </tr>\n",
       "    <tr>\n",
       "      <th>4</th>\n",
       "      <td>RPS4X</td>\n",
       "      <td>RPS6</td>\n",
       "      <td>201.808905</td>\n",
       "    </tr>\n",
       "    <tr>\n",
       "      <th>5</th>\n",
       "      <td>RPS4X</td>\n",
       "      <td>RPL9</td>\n",
       "      <td>196.646844</td>\n",
       "    </tr>\n",
       "    <tr>\n",
       "      <th>6</th>\n",
       "      <td>RPS4X</td>\n",
       "      <td>RPS3A</td>\n",
       "      <td>193.515008</td>\n",
       "    </tr>\n",
       "    <tr>\n",
       "      <th>7</th>\n",
       "      <td>RPS4X</td>\n",
       "      <td>RPL30</td>\n",
       "      <td>192.832437</td>\n",
       "    </tr>\n",
       "    <tr>\n",
       "      <th>8</th>\n",
       "      <td>RPS4X</td>\n",
       "      <td>RPS15A</td>\n",
       "      <td>190.614846</td>\n",
       "    </tr>\n",
       "    <tr>\n",
       "      <th>9</th>\n",
       "      <td>TBX21</td>\n",
       "      <td>GNLY</td>\n",
       "      <td>190.004206</td>\n",
       "    </tr>\n",
       "  </tbody>\n",
       "</table>\n",
       "</div>"
      ],
      "text/plain": [
       "      TF  target  importance\n",
       "0  RPS4X   RPS12  255.363938\n",
       "1  RPS4X   RPL34  224.852101\n",
       "2  RPS4X   RPL32  222.667963\n",
       "3  RPS4X   RPS14  206.698889\n",
       "4  RPS4X    RPS6  201.808905\n",
       "5  RPS4X    RPL9  196.646844\n",
       "6  RPS4X   RPS3A  193.515008\n",
       "7  RPS4X   RPL30  192.832437\n",
       "8  RPS4X  RPS15A  190.614846\n",
       "9  TBX21    GNLY  190.004206"
      ]
     },
     "execution_count": 8,
     "metadata": {},
     "output_type": "execute_result"
    }
   ],
   "source": [
    "adjacencies = pandas.read_csv(\"adj.csv\".format(results_folder), index_col=False, sep=',')\n",
    "adjacencies.head(10)"
   ]
  }
 ],
 "metadata": {
  "kernelspec": {
   "display_name": "Python 3 (ipykernel)",
   "language": "python",
   "name": "python3"
  },
  "language_info": {
   "codemirror_mode": {
    "name": "ipython",
    "version": 3
   },
   "file_extension": ".py",
   "mimetype": "text/x-python",
   "name": "python",
   "nbconvert_exporter": "python",
   "pygments_lexer": "ipython3",
   "version": "3.9.13"
  }
 },
 "nbformat": 4,
 "nbformat_minor": 5
}
