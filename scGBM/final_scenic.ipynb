{
 "cells": [
  {
   "cell_type": "markdown",
   "id": "f72f3ef5",
   "metadata": {},
   "source": [
    "# SCENIC\n",
    "This script runs SCENIC locally"
   ]
  },
  {
   "cell_type": "code",
   "execution_count": 1,
   "id": "f2117f88",
   "metadata": {},
   "outputs": [],
   "source": [
    "import os, pandas, glob"
   ]
  },
  {
   "cell_type": "markdown",
   "id": "14f3d76c",
   "metadata": {},
   "source": [
    "# 0. user-defined variables"
   ]
  },
  {
   "cell_type": "code",
   "execution_count": 2,
   "id": "82c7333a",
   "metadata": {},
   "outputs": [],
   "source": [
    "# input file\n",
    "f_loom_path_scenic = \"/home/adrian/projects/scGBM/results/pbmc10k_filtered_scenic.loom\""
   ]
  },
  {
   "cell_type": "code",
   "execution_count": 3,
   "id": "c3ab9c5b",
   "metadata": {},
   "outputs": [],
   "source": [
    "# resources\n",
    "f_tfs = '/home/adrian/databases/cistarget/allTFs_hg38.txt'\n",
    "database_folder = '/home/adrian/databases/cistarget/'"
   ]
  },
  {
   "cell_type": "code",
   "execution_count": 4,
   "id": "ecebcf99",
   "metadata": {},
   "outputs": [],
   "source": [
    "# results\n",
    "results_folder = '/home/adrian/projects/scGBM/results/'\n",
    "os.chdir(results_folder)"
   ]
  },
  {
   "cell_type": "code",
   "execution_count": 5,
   "id": "ccf02836",
   "metadata": {},
   "outputs": [],
   "source": [
    "# scenic parallelisation level. In a 20 cores machine, it failed requesting >= 12.\n",
    "scenic_threads = 10"
   ]
  },
  {
   "cell_type": "markdown",
   "id": "07030509",
   "metadata": {},
   "source": [
    "# Co-expression modules inference"
   ]
  },
  {
   "cell_type": "markdown",
   "id": "d9723d98",
   "metadata": {},
   "source": [
    "This step requires to know which genes are TFs. That information was retrieved using:\n",
    "\n",
    "`wget https://raw.githubusercontent.com/aertslab/SCENICprotocol/master/example/allTFs_hg38.txt`"
   ]
  },
  {
   "cell_type": "markdown",
   "id": "e797da86",
   "metadata": {},
   "source": [
    "This step takes around 21 CPU hours.\n",
    "\n",
    "It is crucial to monitor for any error message in the messages file, otherwise the calculation might have failed and but still running without end."
   ]
  },
  {
   "cell_type": "code",
   "execution_count": 6,
   "id": "95b33e14",
   "metadata": {},
   "outputs": [
    {
     "name": "stdout",
     "output_type": "stream",
     "text": [
      "time pyscenic grn /home/adrian/projects/scGBM/results/pbmc10k_filtered_scenic.loom /home/adrian/databases/cistarget/allTFs_hg38.txt -o adj.csv --num_workers 10 > /home/adrian/projects/scGBM/results/messages.from_coexpression_inference.txt 2>&1\n"
     ]
    }
   ],
   "source": [
    "cmd = 'time pyscenic grn {} {} -o adj.csv --num_workers {} > messages.from_coexpression_inference.txt 2>&1'.format(f_loom_path_scenic, f_tfs, scenic_threads)\n",
    "print(cmd)"
   ]
  },
  {
   "cell_type": "code",
   "execution_count": null,
   "id": "cce7449c",
   "metadata": {},
   "outputs": [],
   "source": [
    "os.system(cmd)"
   ]
  },
  {
   "cell_type": "code",
   "execution_count": null,
   "id": "24bd6eba",
   "metadata": {},
   "outputs": [],
   "source": [
    "adjacencies = pandas.read_csv(\"adj.csv\".format(results_folder), index_col=False, sep=',')\n",
    "adjacencies.head()"
   ]
  },
  {
   "cell_type": "markdown",
   "id": "c2742bd5",
   "metadata": {},
   "source": [
    "# Regulon inference"
   ]
  },
  {
   "cell_type": "code",
   "execution_count": null,
   "id": "6db8ccca",
   "metadata": {},
   "outputs": [],
   "source": [
    "# ranking databases\n",
    "f_db_glob = \"{}/*feather\".format(database_folder)\n",
    "f_db_names = ' '.join( glob.glob(f_db_glob) )\n",
    "print(f_db_names)\n",
    "\n",
    "# motif databases\n",
    "f_motif_path = \"{}/motifs-v9-nr.hgnc-m0.001-o0.0.tbl\".format(database_folder)\n",
    "print(f_motif_path)"
   ]
  },
  {
   "cell_type": "code",
   "execution_count": null,
   "id": "1ec18d73",
   "metadata": {},
   "outputs": [],
   "source": [
    "cmd = 'time pyscenic ctx adj.tsv {} --annotations_fname {} --expression_mtx_fname {} --output reg.csv --mask_dropouts --num_workers {} > messages.from_regulon_inference.txt 2>&1'.format(f_db_names, f_motif_path, f_loom_path_scenic, scenic_threads)"
   ]
  },
  {
   "cell_type": "code",
   "execution_count": null,
   "id": "523a034a",
   "metadata": {},
   "outputs": [],
   "source": [
    "print(cmd)"
   ]
  },
  {
   "cell_type": "code",
   "execution_count": null,
   "id": "d0b844f7",
   "metadata": {},
   "outputs": [],
   "source": [
    "%%time\n",
    "#os.system(cmd)"
   ]
  }
 ],
 "metadata": {
  "kernelspec": {
   "display_name": "Python 3 (ipykernel)",
   "language": "python",
   "name": "python3"
  },
  "language_info": {
   "codemirror_mode": {
    "name": "ipython",
    "version": 3
   },
   "file_extension": ".py",
   "mimetype": "text/x-python",
   "name": "python",
   "nbconvert_exporter": "python",
   "pygments_lexer": "ipython3",
   "version": "3.9.13"
  }
 },
 "nbformat": 4,
 "nbformat_minor": 5
}
