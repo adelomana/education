{
 "cells": [
  {
   "cell_type": "markdown",
   "id": "f72f3ef5",
   "metadata": {},
   "source": [
    "# SCENIC\n",
    "This script runs SCENIC locally"
   ]
  },
  {
   "cell_type": "code",
   "execution_count": 1,
   "id": "f2117f88",
   "metadata": {},
   "outputs": [],
   "source": [
    "import os, pandas, glob"
   ]
  },
  {
   "cell_type": "markdown",
   "id": "14f3d76c",
   "metadata": {},
   "source": [
    "# 0. user-defined variables"
   ]
  },
  {
   "cell_type": "code",
   "execution_count": 2,
   "id": "32ff4f3d",
   "metadata": {},
   "outputs": [],
   "source": [
    "# input file\n",
    "f_loom_path_scenic = \"/home/adrian/projects/scGBM/results/pbmc10k_filtered_scenic.loom\""
   ]
  },
  {
   "cell_type": "code",
   "execution_count": 3,
   "id": "c3ab9c5b",
   "metadata": {},
   "outputs": [],
   "source": [
    "# resources\n",
    "f_tfs = '/home/adrian/databases/cistarget/allTFs_hg38.txt'\n",
    "database_folder = '/home/adrian/databases/cistarget/'"
   ]
  },
  {
   "cell_type": "code",
   "execution_count": 4,
   "id": "ecebcf99",
   "metadata": {},
   "outputs": [],
   "source": [
    "# results\n",
    "results_folder = '/home/adrian/projects/scGBM/production2/'\n",
    "os.chdir(results_folder)\n",
    "f_pyscenic_output = \"pyscenic_output.loom\""
   ]
  },
  {
   "cell_type": "code",
   "execution_count": 5,
   "id": "ccf02836",
   "metadata": {},
   "outputs": [],
   "source": [
    "# scenic parallelisation level. In a 20 cores machine, it failed requesting >= 12.\n",
    "scenic_threads = 10"
   ]
  },
  {
   "cell_type": "markdown",
   "id": "07030509",
   "metadata": {},
   "source": [
    "# Co-expression modules inference"
   ]
  },
  {
   "cell_type": "markdown",
   "id": "d9723d98",
   "metadata": {},
   "source": [
    "This step requires to know which genes are TFs. That information was retrieved using:\n",
    "\n",
    "`wget https://raw.githubusercontent.com/aertslab/SCENICprotocol/master/example/allTFs_hg38.txt`"
   ]
  },
  {
   "cell_type": "markdown",
   "id": "e797da86",
   "metadata": {},
   "source": [
    "This step takes around 21 CPU hours.\n",
    "\n",
    "It is crucial to monitor for any error message in the messages file, otherwise the calculation might have failed and but still running without end."
   ]
  },
  {
   "cell_type": "code",
   "execution_count": 6,
   "id": "95b33e14",
   "metadata": {},
   "outputs": [
    {
     "name": "stdout",
     "output_type": "stream",
     "text": [
      "time pyscenic grn /home/adrian/projects/scGBM/results/pbmc10k_filtered_scenic.loom /home/adrian/databases/cistarget/allTFs_hg38.txt -o adj.csv --num_workers 10 > messages.from_coexpression_inference.txt 2>&1\n"
     ]
    }
   ],
   "source": [
    "cmd = 'time pyscenic grn {} {} -o adj.csv --num_workers {} > messages.from_coexpression_inference.txt 2>&1'.format(f_loom_path_scenic, f_tfs, scenic_threads)\n",
    "print(cmd)"
   ]
  },
  {
   "cell_type": "code",
   "execution_count": 7,
   "id": "cce7449c",
   "metadata": {},
   "outputs": [
    {
     "name": "stdout",
     "output_type": "stream",
     "text": [
      "CPU times: user 241 ms, sys: 37.6 ms, total: 278 ms\n",
      "Wall time: 3h 36min 18s\n"
     ]
    },
    {
     "data": {
      "text/plain": [
       "0"
      ]
     },
     "execution_count": 7,
     "metadata": {},
     "output_type": "execute_result"
    }
   ],
   "source": [
    "%%time\n",
    "os.system(cmd)"
   ]
  },
  {
   "cell_type": "code",
   "execution_count": 8,
   "id": "24bd6eba",
   "metadata": {},
   "outputs": [
    {
     "data": {
      "text/html": [
       "<div>\n",
       "<style scoped>\n",
       "    .dataframe tbody tr th:only-of-type {\n",
       "        vertical-align: middle;\n",
       "    }\n",
       "\n",
       "    .dataframe tbody tr th {\n",
       "        vertical-align: top;\n",
       "    }\n",
       "\n",
       "    .dataframe thead th {\n",
       "        text-align: right;\n",
       "    }\n",
       "</style>\n",
       "<table border=\"1\" class=\"dataframe\">\n",
       "  <thead>\n",
       "    <tr style=\"text-align: right;\">\n",
       "      <th></th>\n",
       "      <th>TF</th>\n",
       "      <th>target</th>\n",
       "      <th>importance</th>\n",
       "    </tr>\n",
       "  </thead>\n",
       "  <tbody>\n",
       "    <tr>\n",
       "      <th>0</th>\n",
       "      <td>RPS4X</td>\n",
       "      <td>RPS23</td>\n",
       "      <td>218.710179</td>\n",
       "    </tr>\n",
       "    <tr>\n",
       "      <th>1</th>\n",
       "      <td>TBX21</td>\n",
       "      <td>NKG7</td>\n",
       "      <td>213.260183</td>\n",
       "    </tr>\n",
       "    <tr>\n",
       "      <th>2</th>\n",
       "      <td>RPS4X</td>\n",
       "      <td>RPS3A</td>\n",
       "      <td>209.023291</td>\n",
       "    </tr>\n",
       "    <tr>\n",
       "      <th>3</th>\n",
       "      <td>RPS4X</td>\n",
       "      <td>RPL32</td>\n",
       "      <td>200.424629</td>\n",
       "    </tr>\n",
       "    <tr>\n",
       "      <th>4</th>\n",
       "      <td>RPS4X</td>\n",
       "      <td>RPL30</td>\n",
       "      <td>194.003197</td>\n",
       "    </tr>\n",
       "    <tr>\n",
       "      <th>5</th>\n",
       "      <td>RPS4X</td>\n",
       "      <td>RPL13</td>\n",
       "      <td>191.353000</td>\n",
       "    </tr>\n",
       "    <tr>\n",
       "      <th>6</th>\n",
       "      <td>RPS4X</td>\n",
       "      <td>RPL21</td>\n",
       "      <td>188.553449</td>\n",
       "    </tr>\n",
       "    <tr>\n",
       "      <th>7</th>\n",
       "      <td>RPS4X</td>\n",
       "      <td>RPS18</td>\n",
       "      <td>188.290425</td>\n",
       "    </tr>\n",
       "    <tr>\n",
       "      <th>8</th>\n",
       "      <td>KLRG1</td>\n",
       "      <td>GZMK</td>\n",
       "      <td>187.857049</td>\n",
       "    </tr>\n",
       "    <tr>\n",
       "      <th>9</th>\n",
       "      <td>RPS4X</td>\n",
       "      <td>RPL36</td>\n",
       "      <td>187.164066</td>\n",
       "    </tr>\n",
       "  </tbody>\n",
       "</table>\n",
       "</div>"
      ],
      "text/plain": [
       "      TF target  importance\n",
       "0  RPS4X  RPS23  218.710179\n",
       "1  TBX21   NKG7  213.260183\n",
       "2  RPS4X  RPS3A  209.023291\n",
       "3  RPS4X  RPL32  200.424629\n",
       "4  RPS4X  RPL30  194.003197\n",
       "5  RPS4X  RPL13  191.353000\n",
       "6  RPS4X  RPL21  188.553449\n",
       "7  RPS4X  RPS18  188.290425\n",
       "8  KLRG1   GZMK  187.857049\n",
       "9  RPS4X  RPL36  187.164066"
      ]
     },
     "execution_count": 8,
     "metadata": {},
     "output_type": "execute_result"
    }
   ],
   "source": [
    "adjacencies = pandas.read_csv(\"adj.csv\".format(results_folder), index_col=False, sep=',')\n",
    "adjacencies.head(10)"
   ]
  }
 ],
 "metadata": {
  "kernelspec": {
   "display_name": "Python 3 (ipykernel)",
   "language": "python",
   "name": "python3"
  },
  "language_info": {
   "codemirror_mode": {
    "name": "ipython",
    "version": 3
   },
   "file_extension": ".py",
   "mimetype": "text/x-python",
   "name": "python",
   "nbconvert_exporter": "python",
   "pygments_lexer": "ipython3",
   "version": "3.9.13"
  }
 },
 "nbformat": 4,
 "nbformat_minor": 5
}
