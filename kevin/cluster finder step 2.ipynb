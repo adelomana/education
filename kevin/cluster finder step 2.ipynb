{
 "cells": [
  {
   "cell_type": "code",
   "execution_count": null,
   "id": "95653ccb",
   "metadata": {},
   "outputs": [],
   "source": [
    "import pandas, numpy\n",
    "import scipy, scipy.signal"
   ]
  },
  {
   "cell_type": "code",
   "execution_count": null,
   "id": "66a67a20",
   "metadata": {},
   "outputs": [],
   "source": [
    "import matplotlib, matplotlib.pyplot\n",
    "matplotlib.rcParams.update({'font.family':'sans-serif',\n",
    "                            'font.size':20, \n",
    "                            'xtick.labelsize':30, \n",
    "                            'ytick.labelsize':30, \n",
    "                            'figure.figsize':(16, 9), \n",
    "                            'axes.labelsize':40})"
   ]
  },
  {
   "cell_type": "code",
   "execution_count": null,
   "id": "30f3ecb4",
   "metadata": {},
   "outputs": [],
   "source": [
    "# user-defined variables"
   ]
  },
  {
   "cell_type": "code",
   "execution_count": null,
   "id": "d657fdf4",
   "metadata": {},
   "outputs": [],
   "source": [
    "expression_file = '/home/adrian/scratch/selected_expression.tsv'\n",
    "output_dir = '/home/adrian/scratch/'"
   ]
  },
  {
   "cell_type": "code",
   "execution_count": null,
   "id": "476d84a1",
   "metadata": {},
   "outputs": [],
   "source": [
    "iso1 = 'ENST00000354449.7'\n",
    "iso2 = 'ENST00000354956.9'"
   ]
  },
  {
   "cell_type": "markdown",
   "id": "d30052d6",
   "metadata": {},
   "source": [
    "# read data"
   ]
  },
  {
   "cell_type": "code",
   "execution_count": null,
   "id": "72220fe5",
   "metadata": {},
   "outputs": [],
   "source": [
    "%%time\n",
    "selected_expression = pandas.read_csv(expression_file, index_col=0, sep='\\t')\n",
    "print(df.shape)\n",
    "df.head()"
   ]
  },
  {
   "cell_type": "markdown",
   "id": "f16f7841",
   "metadata": {},
   "source": [
    "# quantile normalization"
   ]
  },
  {
   "cell_type": "code",
   "execution_count": null,
   "id": "d5f005bc",
   "metadata": {},
   "outputs": [],
   "source": [
    "%%time\n",
    "#\n",
    "# quantile normalization \n",
    "# taken from https://cmdlinetips.com/2020/06/computing-quantile-normalization-in-python/\n",
    "#\n",
    "\n",
    "# step 1/3: sorting sample values\n",
    "df_sorted = pandas.DataFrame(numpy.sort(selected_expression.values, axis=0), index=selected_expression.index, columns=selected_expression.columns)\n",
    "# step 2/3: averaging rank values across samples\n",
    "df_mean = df_sorted.mean(axis=1)\n",
    "df_mean.index = numpy.arange(1, len(df_mean) + 1)\n",
    "# step 3/3: re-ordering samples\n",
    "qndf = selected_expression.rank(method=\"min\").stack().astype(int).map(df_mean).unstack()"
   ]
  },
  {
   "cell_type": "code",
   "execution_count": null,
   "id": "532137f5",
   "metadata": {},
   "outputs": [],
   "source": [
    "found_max = 19\n",
    "resolution = 25\n",
    "number_of_bins = found_max * resolution\n",
    "absolute_max = 0\n",
    "margin = int(resolution/3)\n",
    "\n",
    "most_likely_expressions = []\n",
    "\n",
    "selected_samples = []\n",
    "\n",
    "for sample in qndf.columns:\n",
    "        \n",
    "    expression_values = qndf.loc[:, sample]\n",
    "    \n",
    "    # histogram\n",
    "    hist, bin_edges = numpy.histogram(expression_values, bins=number_of_bins, range=(0, found_max))\n",
    "    half_bin = (bin_edges[1] - bin_edges[0])/2\n",
    "    x = bin_edges + half_bin\n",
    "    x = x[:-1]\n",
    "    \n",
    "    # curve fitting\n",
    "    plotting_x = x[margin:-margin]\n",
    "    plotting_hist = hist[margin:-margin]\n",
    "    yhat = scipy.signal.savgol_filter(plotting_hist, 51, 3)\n",
    "    \n",
    "    # determine most likely expression\n",
    "    most_likely_expression = x[numpy.argmax(yhat)]\n",
    "    most_likely_expressions.append(most_likely_expression)\n",
    "    \n",
    "    # sample selection\n",
    "    if 1 <= most_likely_expression <= 2:\n",
    "        selected_samples.append(sample)\n",
    "    \n",
    "    # plotting\n",
    "    matplotlib.pyplot.plot(plotting_x, yhat, '-', lw=4, alpha=1/300, color='black')\n",
    "    \n",
    "    # check\n",
    "    if numpy.max(expression_values) > absolute_max:\n",
    "        absolute_max = numpy.max(expression_values)\n",
    "\n",
    "# check print\n",
    "print(absolute_max)\n",
    "print(len(selected_samples))\n",
    "\n",
    "matplotlib.pyplot.xlim(-1, 11)                  \n",
    "matplotlib.pyplot.xticks(range(0, 10+1))\n",
    "matplotlib.pyplot.xlabel('Expression [log$_2$ (TPM + 1)]')\n",
    "matplotlib.pyplot.ylabel('Feature count')\n",
    "matplotlib.pyplot.grid(ls=':')\n",
    "matplotlib.pyplot.tight_layout()\n",
    "matplotlib.pyplot.show()"
   ]
  },
  {
   "cell_type": "markdown",
   "id": "13a4d11c",
   "metadata": {},
   "source": [
    "# cluster data"
   ]
  },
  {
   "cell_type": "code",
   "execution_count": null,
   "id": "b5ba8118",
   "metadata": {},
   "outputs": [],
   "source": []
  },
  {
   "cell_type": "code",
   "execution_count": null,
   "id": "634d49a1",
   "metadata": {},
   "outputs": [],
   "source": []
  }
 ],
 "metadata": {
  "kernelspec": {
   "display_name": "Python 3 (ipykernel)",
   "language": "python",
   "name": "python3"
  },
  "language_info": {
   "codemirror_mode": {
    "name": "ipython",
    "version": 3
   },
   "file_extension": ".py",
   "mimetype": "text/x-python",
   "name": "python",
   "nbconvert_exporter": "python",
   "pygments_lexer": "ipython3",
   "version": "3.9.13"
  }
 },
 "nbformat": 4,
 "nbformat_minor": 5
}
