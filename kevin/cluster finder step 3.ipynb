{
 "cells": [
  {
   "cell_type": "code",
   "execution_count": 1,
   "id": "b8d050e9",
   "metadata": {},
   "outputs": [],
   "source": [
    "import pandas, numpy, seaborn, umap\n",
    "import scipy, scipy.signal\n",
    "import sklearn, sklearn.cluster\n",
    "import MulticoreTSNE"
   ]
  },
  {
   "cell_type": "code",
   "execution_count": 2,
   "id": "285bed3d",
   "metadata": {},
   "outputs": [],
   "source": [
    "import matplotlib, matplotlib.pyplot\n",
    "matplotlib.rcParams.update({'font.family':'sans-serif',\n",
    "                            'font.size':20, \n",
    "                            'xtick.labelsize':30, \n",
    "                            'ytick.labelsize':30, \n",
    "                            'figure.figsize':(16, 9), \n",
    "                            'axes.labelsize':40})"
   ]
  },
  {
   "cell_type": "markdown",
   "id": "24b10444",
   "metadata": {},
   "source": [
    "# user-defined variables"
   ]
  },
  {
   "cell_type": "code",
   "execution_count": 3,
   "id": "243eb5f1",
   "metadata": {},
   "outputs": [],
   "source": [
    "expression_file = '/home/adrian/scratch/zscore.tsv'\n",
    "output_dir = '/home/adrian/scratch/'"
   ]
  },
  {
   "cell_type": "code",
   "execution_count": 4,
   "id": "12519443",
   "metadata": {},
   "outputs": [],
   "source": [
    "iso1 = 'ENST00000354449.7'\n",
    "iso2 = 'ENST00000354956.9'"
   ]
  },
  {
   "cell_type": "markdown",
   "id": "bac886fb",
   "metadata": {},
   "source": [
    "# read data"
   ]
  },
  {
   "cell_type": "code",
   "execution_count": null,
   "id": "bf1b4d99",
   "metadata": {},
   "outputs": [],
   "source": [
    "%%time\n",
    "zscore_df = pandas.read_csv(expression_file, index_col=0, sep='\\t')\n",
    "print(zscore_df.shape)\n",
    "zscore_df.head()"
   ]
  },
  {
   "cell_type": "code",
   "execution_count": null,
   "id": "e41f7aa3",
   "metadata": {},
   "outputs": [],
   "source": [
    "print(zscore_df.max().max())\n",
    "print(zscore_df.min().min())"
   ]
  },
  {
   "cell_type": "markdown",
   "id": "b7463b0c",
   "metadata": {},
   "source": [
    "# exploratory visualization"
   ]
  },
  {
   "cell_type": "markdown",
   "id": "778fcd21",
   "metadata": {},
   "source": [
    "## heatmap"
   ]
  },
  {
   "cell_type": "code",
   "execution_count": null,
   "id": "fd98b42b",
   "metadata": {},
   "outputs": [],
   "source": [
    "zscore_df.rename_axis('Transcripts', inplace=True)\n",
    "zscore_df.rename_axis('Samples', axis='columns', inplace=True)\n",
    "print(zscore_df.shape)\n",
    "zscore_df"
   ]
  },
  {
   "cell_type": "code",
   "execution_count": null,
   "id": "43263f57",
   "metadata": {},
   "outputs": [],
   "source": [
    "# reduction of 10 runs for 68 CPU s\n",
    "# reduction of 3 runs for 7 CPU min\n",
    "\n",
    "print(zscore_df.shape)\n",
    "\n",
    "reduction = 1\n",
    "test = zscore_df.iloc[:int(zscore_df.shape[0]/reduction), :] \n",
    "\n",
    "print(test.shape)\n",
    "test.tail()"
   ]
  },
  {
   "cell_type": "code",
   "execution_count": null,
   "id": "088e0c91",
   "metadata": {},
   "outputs": [],
   "source": [
    "# nomiss = zscore_df.loc[[iso1, iso2], :]\n",
    "# print(test.shape)\n",
    "# print(nomiss.shape)\n",
    "# test = pandas.concat([test, nomiss])\n",
    "# print(test.shape)\n",
    "# test.tail()"
   ]
  },
  {
   "cell_type": "code",
   "execution_count": null,
   "id": "d52da51e",
   "metadata": {
    "scrolled": false
   },
   "outputs": [],
   "source": [
    "%%time\n",
    "seaborn.clustermap(test, \n",
    "                   cmap='bwr', \n",
    "                   row_cluster=False, \n",
    "                   col_cluster=False, \n",
    "                   vmin=-20, vmax=20, \n",
    "                   cbar_kws={'label':'z-score'},\n",
    "                   xticklabels=False, yticklabels=False, \n",
    "                  )\n",
    "matplotlib.pyplot.show()"
   ]
  },
  {
   "cell_type": "code",
   "execution_count": null,
   "id": "2c2c7d47",
   "metadata": {},
   "outputs": [],
   "source": [
    "%%time\n",
    "linkage_method = 'complete'\n",
    "distance_metric = 'cosine'\n",
    "\n",
    "seaborn.clustermap(test, \n",
    "                   cmap='bwr', \n",
    "                   row_cluster=True, \n",
    "                   col_cluster=True, \n",
    "                   vmin=-20, vmax=20, \n",
    "                   cbar_kws={'label':'z-score'},\n",
    "                   xticklabels=False, yticklabels=False, \n",
    "                   method=linkage_method, metric=distance_metric\n",
    "                  )\n",
    "matplotlib.pyplot.show()"
   ]
  },
  {
   "cell_type": "markdown",
   "id": "a51d3c99",
   "metadata": {},
   "source": [
    "## dimensionality reduction"
   ]
  },
  {
   "cell_type": "markdown",
   "id": "5c3c8c62",
   "metadata": {},
   "source": [
    "### UMAP"
   ]
  },
  {
   "cell_type": "code",
   "execution_count": null,
   "id": "e74b0640",
   "metadata": {
    "scrolled": false
   },
   "outputs": [],
   "source": [
    "%%time\n",
    "runUmap = umap.UMAP(metric='correlation',\n",
    "                    n_neighbors=5,\n",
    "                    min_dist=0,\n",
    "                    learning_rate=0.5\n",
    "                   ).fit_transform\n",
    "dr_umap = runUmap(test)\n",
    "positionsu = pandas.DataFrame(dr_umap, columns=['X', 'Y'], index=test.index)\n",
    "\n",
    "matplotlib.pyplot.plot(positionsu['X'], positionsu['Y'], 'o', alpha=1/10, markeredgecolor='None', ms=20, markevery=5)\n",
    "\n",
    "matplotlib.pyplot.plot(positionsu.loc[iso1, 'X'], positionsu.loc[iso1, 'Y'], 'o', alpha=0.8, markeredgecolor='None', ms=20, color='tab:red', label='ATG7-201')\n",
    "matplotlib.pyplot.plot(positionsu.loc[iso2, 'X'], positionsu.loc[iso2, 'Y'], 'o', alpha=0.9, markeredgecolor='None', ms=20, color='tab:orange', label='ATG7-202')\n",
    "\n",
    "matplotlib.pyplot.legend()\n",
    "matplotlib.pyplot.grid(ls=':')\n",
    "matplotlib.pyplot.tight_layout()\n",
    "matplotlib.pyplot.show()\n",
    "\n",
    "print(positionsu.shape)\n",
    "positionsu"
   ]
  },
  {
   "cell_type": "markdown",
   "id": "7cc91d93",
   "metadata": {},
   "source": [
    "### tSNE"
   ]
  },
  {
   "cell_type": "code",
   "execution_count": null,
   "id": "64c6b39e",
   "metadata": {},
   "outputs": [],
   "source": [
    "%%time\n",
    "tsne = MulticoreTSNE.MulticoreTSNE(n_jobs=20)\n",
    "dr_tsne = tsne.fit_transform(test)\n",
    "positionst = pandas.DataFrame(dr_tsne, columns=['X', 'Y'], index=test.index)\n",
    "\n",
    "matplotlib.pyplot.plot(positionst['X'], positionst['Y'], 'o', alpha=1/10, markeredgecolor='None', ms=20)\n",
    "\n",
    "matplotlib.pyplot.plot(positionst.loc[iso1, 'X'], positionst.loc[iso1, 'Y'], 'o', alpha=0.8, markeredgecolor='None', ms=20, color='tab:red', label='ATG7-201')\n",
    "matplotlib.pyplot.plot(positionst.loc[iso2, 'X'], positionst.loc[iso2, 'Y'], 'o', alpha=0.9, markeredgecolor='None', ms=20, color='tab:orange', label='ATG7-202')\n",
    "\n",
    "matplotlib.pyplot.legend()\n",
    "matplotlib.pyplot.grid(ls=':')\n",
    "matplotlib.pyplot.tight_layout()\n",
    "matplotlib.pyplot.show()"
   ]
  },
  {
   "cell_type": "markdown",
   "id": "678ec576",
   "metadata": {},
   "source": [
    "## heatmap with labels"
   ]
  },
  {
   "cell_type": "code",
   "execution_count": null,
   "id": "12f7afd5",
   "metadata": {},
   "outputs": [],
   "source": [
    "print(test.index.get_loc(iso1))\n",
    "print(test.index.get_loc(iso2))"
   ]
  },
  {
   "cell_type": "code",
   "execution_count": null,
   "id": "e23bd69c",
   "metadata": {},
   "outputs": [],
   "source": [
    "observed_best_k = 4\n",
    "best_index = all_ks.index(observed_best_k)\n",
    "labels = groupings[best_index]\n",
    "\n",
    "print(set(labels))\n",
    "\n",
    "print('ATG7-201 is in cluster {}'.format(labels[test.index.get_loc(iso1)]))\n",
    "print('ATG7-202 is in cluster {}'.format(labels[test.index.get_loc(iso2)]))"
   ]
  },
  {
   "cell_type": "code",
   "execution_count": null,
   "id": "10a22858",
   "metadata": {},
   "outputs": [],
   "source": [
    "%%time\n",
    "\n",
    "cmap = matplotlib.pyplot.cm.get_cmap('tab20')\n",
    "k_colors = cmap(labels)\n",
    "\n",
    "linkage_method = 'complete'\n",
    "distance_metric = 'correlation'\n",
    "\n",
    "clustergrid = seaborn.clustermap(test, \n",
    "                   cmap='bwr', \n",
    "                   row_cluster=True, \n",
    "                   col_cluster=True, \n",
    "                   vmin=-20, vmax=20, \n",
    "                   cbar_kws={'label':'z-score'},\n",
    "                   xticklabels=False, yticklabels=False, \n",
    "                   method=linkage_method, metric=distance_metric,\n",
    "                   row_colors=k_colors\n",
    "                  )\n",
    "\n",
    "# adding where isoforms fall\n",
    "loc1 = clustergrid.dendrogram_row.reordered_ind.index(test.index.get_loc(iso1))\n",
    "loc2 = clustergrid.dendrogram_row.reordered_ind.index(test.index.get_loc(iso2))\n",
    "ax = clustergrid.ax_heatmap\n",
    "ax.add_patch(matplotlib.patches.Arrow(test.shape[1], loc1, dx=-100, dy=0, color='gold', width=100))\n",
    "ax.add_patch(matplotlib.patches.Arrow(test.shape[1], loc2, dx=-100, dy=0, color='skyblue', width=100))\n",
    "matplotlib.pyplot.show()"
   ]
  },
  {
   "cell_type": "code",
   "execution_count": null,
   "id": "61a77b99",
   "metadata": {},
   "outputs": [],
   "source": [
    "iso1clusterlabel = labels[test.index.get_loc(iso1)]\n",
    "iso2clusterlabel = labels[test.index.get_loc(iso2)]\n",
    "print(iso1clusterlabel, iso2clusterlabel)"
   ]
  },
  {
   "cell_type": "code",
   "execution_count": null,
   "id": "18238db4",
   "metadata": {},
   "outputs": [],
   "source": [
    "# only the two isoforms\n",
    "print(iso1)\n",
    "print(iso2)\n",
    "seaborn.set(font_scale=1) \n",
    "seaborn.clustermap(\n",
    "    test.iloc[[test.index.get_loc(iso1), test.index.get_loc(iso2)], clustergrid.dendrogram_col.reordered_ind], \n",
    "    cmap='bwr', \n",
    "    vmin=-20, vmax=20,\n",
    "    row_cluster=False, col_cluster=False, \n",
    "    cbar_kws={'label':'z-score'},\n",
    "    xticklabels=False, yticklabels=True,  \n",
    "    row_colors=cmap([iso1clusterlabel, iso2clusterlabel])\n",
    ")\n",
    "matplotlib.pyplot.show()"
   ]
  },
  {
   "cell_type": "code",
   "execution_count": null,
   "id": "7e4e2998",
   "metadata": {},
   "outputs": [],
   "source": [
    "# only the two clusters\n",
    "cluster_indexes = []\n",
    "cluster_labels = []\n",
    "iso1_cluster_names = []; iso2_cluster_names = []\n",
    "for row in clustergrid.dendrogram_row.reordered_ind:\n",
    "    if labels[row] == iso1clusterlabel:\n",
    "        cluster_indexes.append(row); cluster_labels.append(iso1clusterlabel)\n",
    "        iso1_cluster_names.append(test.index[row])\n",
    "    if labels[row] == iso2clusterlabel:\n",
    "        cluster_indexes.append(row); cluster_labels.append(iso2clusterlabel)\n",
    "        iso2_cluster_names.append(test.index[row])\n",
    "\n",
    "seaborn.clustermap(\n",
    "    test.iloc[cluster_indexes, clustergrid.dendrogram_col.reordered_ind], \n",
    "    cmap='bwr', \n",
    "    vmin=-20, vmax=20,\n",
    "    row_cluster=False, col_cluster=False, \n",
    "    cbar_kws={'label':'z-score'},\n",
    "    xticklabels=False, yticklabels=False,  \n",
    "    row_colors=cmap(cluster_labels)\n",
    ")\n",
    "matplotlib.pyplot.show()\n",
    "\n",
    "print(len(iso1_cluster_names), len(iso2_cluster_names))\n",
    "print(iso1 in iso1_cluster_names, iso1 in iso2_cluster_names)\n",
    "print(iso2 in iso2_cluster_names, iso2 in iso1_cluster_names)"
   ]
  },
  {
   "cell_type": "code",
   "execution_count": null,
   "id": "d1bc9553",
   "metadata": {},
   "outputs": [],
   "source": [
    "linkage_method = 'complete'\n",
    "distance_metric = 'correlation'\n",
    "\n",
    "twoc = test.iloc[cluster_indexes, clustergrid.dendrogram_col.reordered_ind]\n",
    "\n",
    "clustergrid = seaborn.clustermap(\n",
    "    twoc, \n",
    "    cmap='bwr', \n",
    "    row_cluster=True, \n",
    "    col_cluster=False, \n",
    "    vmin=-20, vmax=20, \n",
    "    cbar_kws={'label':'z-score'},\n",
    "    xticklabels=False, yticklabels=False, \n",
    "    method=linkage_method, metric=distance_metric,\n",
    "    row_colors=cmap(cluster_labels)\n",
    ")\n",
    "\n",
    "# adding where isoforms fall\n",
    "loc1 = clustergrid.dendrogram_row.reordered_ind.index(twoc.index.get_loc(iso1))\n",
    "loc2 = clustergrid.dendrogram_row.reordered_ind.index(twoc.index.get_loc(iso2))\n",
    "ax = clustergrid.ax_heatmap\n",
    "ax.add_patch(matplotlib.patches.Arrow(twoc.shape[1], loc1, dx=-100, dy=0, color='gold', width=100))\n",
    "ax.add_patch(matplotlib.patches.Arrow(twoc.shape[1], loc2, dx=-100, dy=0, color='skyblue', width=100))\n",
    "matplotlib.pyplot.show()"
   ]
  },
  {
   "cell_type": "code",
   "execution_count": null,
   "id": "ad2f4ee3",
   "metadata": {},
   "outputs": [],
   "source": []
  },
  {
   "cell_type": "code",
   "execution_count": null,
   "id": "4d2ffdb6",
   "metadata": {},
   "outputs": [],
   "source": []
  }
 ],
 "metadata": {
  "kernelspec": {
   "display_name": "Python 3 (ipykernel)",
   "language": "python",
   "name": "python3"
  },
  "language_info": {
   "codemirror_mode": {
    "name": "ipython",
    "version": 3
   },
   "file_extension": ".py",
   "mimetype": "text/x-python",
   "name": "python",
   "nbconvert_exporter": "python",
   "pygments_lexer": "ipython3",
   "version": "3.9.15"
  }
 },
 "nbformat": 4,
 "nbformat_minor": 5
}
