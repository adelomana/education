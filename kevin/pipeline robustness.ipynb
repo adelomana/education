{
 "cells": [
  {
   "cell_type": "code",
   "execution_count": 1,
   "id": "f2d4eb10",
   "metadata": {},
   "outputs": [],
   "source": [
    "import scanpy, numpy"
   ]
  },
  {
   "cell_type": "markdown",
   "id": "6f622f43",
   "metadata": {},
   "source": [
    "# read data"
   ]
  },
  {
   "cell_type": "code",
   "execution_count": 2,
   "id": "2ecfc4e1",
   "metadata": {},
   "outputs": [],
   "source": [
    "iso1 = 'ENST00000354449.7'\n",
    "iso2 = 'ENST00000354956.9'"
   ]
  },
  {
   "cell_type": "code",
   "execution_count": 3,
   "id": "d8154b59",
   "metadata": {},
   "outputs": [
    {
     "name": "stdout",
     "output_type": "stream",
     "text": [
      "CPU times: user 44.2 s, sys: 1.22 s, total: 45.4 s\n",
      "Wall time: 46.1 s\n"
     ]
    },
    {
     "data": {
      "text/plain": [
       "AnnData object with n_obs × n_vars = 46490 × 4385"
      ]
     },
     "execution_count": 3,
     "metadata": {},
     "output_type": "execute_result"
    }
   ],
   "source": [
    "%%time\n",
    "input_file = '/home/adrian/databases/gtex/zscore.tsv'\n",
    "adata = scanpy.read_csv(input_file, delimiter='\\t')\n",
    "adata"
   ]
  },
  {
   "cell_type": "markdown",
   "id": "9e141bb7",
   "metadata": {},
   "source": [
    "# PCA"
   ]
  },
  {
   "cell_type": "code",
   "execution_count": 4,
   "id": "02a3fc6f",
   "metadata": {},
   "outputs": [],
   "source": [
    "scanpy.tl.pca(adata, n_comps=100)"
   ]
  },
  {
   "cell_type": "markdown",
   "id": "5ae850bb",
   "metadata": {},
   "source": [
    "# umap and leiden"
   ]
  },
  {
   "cell_type": "code",
   "execution_count": 5,
   "id": "eea5af4d",
   "metadata": {
    "scrolled": false
   },
   "outputs": [
    {
     "ename": "NameError",
     "evalue": "name 'dist' is not defined",
     "output_type": "error",
     "traceback": [
      "\u001b[0;31m---------------------------------------------------------------------------\u001b[0m",
      "\u001b[0;31mNameError\u001b[0m                                 Traceback (most recent call last)",
      "\u001b[0;32m<timed exec>\u001b[0m in \u001b[0;36m<module>\u001b[0;34m\u001b[0m\n",
      "\u001b[0;31mNameError\u001b[0m: name 'dist' is not defined"
     ]
    }
   ],
   "source": [
    "%%time\n",
    "\n",
    "neis = [5]\n",
    "\n",
    "for nei in neis:\n",
    "        \n",
    "    # initial exploration\n",
    "    scanpy.pp.neighbors(adata, n_neighbors=nei, n_pcs=100)\n",
    "    scanpy.tl.leiden(adata)\n",
    "    scanpy.tl.paga(adata)\n",
    "    scanpy.pl.paga(adata, plot=False)\n",
    "    scanpy.tl.umap(adata, min_dist=dist, spread=spre, init_pos='paga')         \n",
    "\n",
    "    # gray coloring\n",
    "    my_colors = []\n",
    "    for category in range(len(adata.obs['leiden'].cat.categories)):\n",
    "        if str(category) == adata.obs['leiden'][iso1]:\n",
    "            my_colors.append('gold')\n",
    "        elif str(category) == adata.obs['leiden'][iso2]:\n",
    "            my_colors.append('skyblue')\n",
    "        else:\n",
    "            my_colors.append('grey')\n",
    "    scanpy.pl.umap(adata, color='leiden', palette=my_colors, title='n{} d{} s{}'.format(nei, dist, spre))"
   ]
  }
 ],
 "metadata": {
  "kernelspec": {
   "display_name": "Python 3 (ipykernel)",
   "language": "python",
   "name": "python3"
  },
  "language_info": {
   "codemirror_mode": {
    "name": "ipython",
    "version": 3
   },
   "file_extension": ".py",
   "mimetype": "text/x-python",
   "name": "python",
   "nbconvert_exporter": "python",
   "pygments_lexer": "ipython3",
   "version": "3.9.16"
  }
 },
 "nbformat": 4,
 "nbformat_minor": 5
}
